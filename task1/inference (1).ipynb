{
 "cells": [
  {
   "cell_type": "code",
   "execution_count": 50,
   "metadata": {
    "collapsed": false,
    "jupyter": {
     "outputs_hidden": false
    },
    "pycharm": {
     "name": "#%%\n"
    }
   },
   "outputs": [],
   "source": [
    "''\n",
    "import os\n",
    "import copy\n",
    "import random\n",
    "import numpy as np\n",
    "import pretty_midi as pyd\n",
    "from loader.dataloader import MIDI_Loader\n",
    "\n",
    "s_dir = \"\" # folder address\n",
    "midi_path = \"../data/IrishFolkSong/session/\""
   ]
  },
  {
   "cell_type": "code",
   "execution_count": 51,
   "metadata": {
    "collapsed": false,
    "jupyter": {
     "outputs_hidden": false
    },
    "pycharm": {
     "name": "#%%\n"
    }
   },
   "outputs": [
    {
     "name": "stdout",
     "output_type": "stream",
     "text": [
      "Dataset Name: Irish\n",
      "start to load mid from ../data/IrishFolkSong/session/\n",
      "processed:1\n",
      "processed:1001\n",
      "processed:2001\n",
      "processed:3001\n",
      "processed:4001\n",
      "processed:5001\n",
      "processed:6001\n",
      "processed:7001\n",
      "processed:8001\n",
      "processed:9001\n",
      "processed:10001\n",
      "processed:11001\n",
      "processed:12001\n",
      "processed:13001\n",
      "processed:14001\n",
      "processed:15001\n",
      "processed:16001\n",
      "processed:17001\n",
      "processed:18001\n",
      "processed:19001\n",
      "processed:20001\n",
      "processed:21001\n"
     ]
    },
    {
     "ename": "KeyboardInterrupt",
     "evalue": "",
     "output_type": "error",
     "traceback": [
      "\u001B[1;31m---------------------------------------------------------------------------\u001B[0m",
      "\u001B[1;31mKeyboardInterrupt\u001B[0m                         Traceback (most recent call last)",
      "Input \u001B[1;32mIn [51]\u001B[0m, in \u001B[0;36m<cell line: 5>\u001B[1;34m()\u001B[0m\n\u001B[0;32m      1\u001B[0m \u001B[38;5;66;03m# load data from Midis, because bpm = 120，so one beat time = 60 / 120 = 0.5\u001B[39;00m\n\u001B[0;32m      2\u001B[0m \u001B[38;5;66;03m# And in 4/4 we divide 4 beat to 24 step/frames, each will be 0.5 * 4 / 24  = 0.5 / 6 sec\u001B[39;00m\n\u001B[0;32m      3\u001B[0m \u001B[38;5;66;03m# It takes a little bit long time.\u001B[39;00m\n\u001B[0;32m      4\u001B[0m ml \u001B[38;5;241m=\u001B[39m MIDI_Loader(\u001B[38;5;124m\"\u001B[39m\u001B[38;5;124mIrish\u001B[39m\u001B[38;5;124m\"\u001B[39m,minStep \u001B[38;5;241m=\u001B[39m \u001B[38;5;241m0.5\u001B[39m \u001B[38;5;241m/\u001B[39m \u001B[38;5;241m6\u001B[39m)\n\u001B[1;32m----> 5\u001B[0m \u001B[43mml\u001B[49m\u001B[38;5;241;43m.\u001B[39;49m\u001B[43mload\u001B[49m\u001B[43m(\u001B[49m\u001B[43mmidi_path\u001B[49m\u001B[43m)\u001B[49m\n",
      "File \u001B[1;32mE:\\音学\\code\\Accompaniment-Generation\\task1\\loader\\dataloader.py:35\u001B[0m, in \u001B[0;36mMIDI_Loader.load\u001B[1;34m(self, directory)\u001B[0m\n\u001B[0;32m     33\u001B[0m \u001B[38;5;28;01mif\u001B[39;00m \u001B[38;5;129;01mnot\u001B[39;00m midi_file\u001B[38;5;241m.\u001B[39mendswith(\u001B[38;5;124m\"\u001B[39m\u001B[38;5;124m.mid\u001B[39m\u001B[38;5;124m\"\u001B[39m):\n\u001B[0;32m     34\u001B[0m     \u001B[38;5;28;01mcontinue\u001B[39;00m\n\u001B[1;32m---> 35\u001B[0m temp \u001B[38;5;241m=\u001B[39m \u001B[43mpyd\u001B[49m\u001B[38;5;241;43m.\u001B[39;49m\u001B[43mPrettyMIDI\u001B[49m\u001B[43m(\u001B[49m\u001B[43mdirectory\u001B[49m\u001B[43m \u001B[49m\u001B[38;5;241;43m+\u001B[39;49m\u001B[43m \u001B[49m\u001B[43mmidi_file\u001B[49m\u001B[43m)\u001B[49m\n\u001B[0;32m     36\u001B[0m \u001B[38;5;66;03m# useless midi file\u001B[39;00m\n\u001B[0;32m     37\u001B[0m \u001B[38;5;28;01mif\u001B[39;00m \u001B[38;5;28mlen\u001B[39m(temp\u001B[38;5;241m.\u001B[39minstruments) \u001B[38;5;241m==\u001B[39m \u001B[38;5;241m0\u001B[39m \u001B[38;5;129;01mor\u001B[39;00m \u001B[38;5;28mlen\u001B[39m(temp\u001B[38;5;241m.\u001B[39minstruments[\u001B[38;5;241m0\u001B[39m]\u001B[38;5;241m.\u001B[39mnotes) \u001B[38;5;241m==\u001B[39m \u001B[38;5;241m0\u001B[39m:\n",
      "File \u001B[1;32m~\\anaconda3\\envs\\algorithm\\lib\\site-packages\\pretty_midi\\pretty_midi.py:60\u001B[0m, in \u001B[0;36mPrettyMIDI.__init__\u001B[1;34m(self, midi_file, resolution, initial_tempo)\u001B[0m\n\u001B[0;32m     56\u001B[0m \u001B[38;5;28;01mif\u001B[39;00m midi_file \u001B[38;5;129;01mis\u001B[39;00m \u001B[38;5;129;01mnot\u001B[39;00m \u001B[38;5;28;01mNone\u001B[39;00m:\n\u001B[0;32m     57\u001B[0m     \u001B[38;5;66;03m# Load in the MIDI data using the midi module\u001B[39;00m\n\u001B[0;32m     58\u001B[0m     \u001B[38;5;28;01mif\u001B[39;00m \u001B[38;5;28misinstance\u001B[39m(midi_file, six\u001B[38;5;241m.\u001B[39mstring_types):\n\u001B[0;32m     59\u001B[0m         \u001B[38;5;66;03m# If a string was given, pass it as the string filename\u001B[39;00m\n\u001B[1;32m---> 60\u001B[0m         midi_data \u001B[38;5;241m=\u001B[39m \u001B[43mmido\u001B[49m\u001B[38;5;241;43m.\u001B[39;49m\u001B[43mMidiFile\u001B[49m\u001B[43m(\u001B[49m\u001B[43mfilename\u001B[49m\u001B[38;5;241;43m=\u001B[39;49m\u001B[43mmidi_file\u001B[49m\u001B[43m)\u001B[49m\n\u001B[0;32m     61\u001B[0m     \u001B[38;5;28;01melse\u001B[39;00m:\n\u001B[0;32m     62\u001B[0m         \u001B[38;5;66;03m# Otherwise, try passing it in as a file pointer\u001B[39;00m\n\u001B[0;32m     63\u001B[0m         midi_data \u001B[38;5;241m=\u001B[39m mido\u001B[38;5;241m.\u001B[39mMidiFile(file\u001B[38;5;241m=\u001B[39mmidi_file)\n",
      "File \u001B[1;32m~\\anaconda3\\envs\\algorithm\\lib\\site-packages\\mido\\midifiles\\midifiles.py:315\u001B[0m, in \u001B[0;36mMidiFile.__init__\u001B[1;34m(self, filename, file, type, ticks_per_beat, charset, debug, clip)\u001B[0m\n\u001B[0;32m    313\u001B[0m     \u001B[38;5;28mself\u001B[39m\u001B[38;5;241m.\u001B[39m_load(file)\n\u001B[0;32m    314\u001B[0m \u001B[38;5;28;01melif\u001B[39;00m \u001B[38;5;28mself\u001B[39m\u001B[38;5;241m.\u001B[39mfilename \u001B[38;5;129;01mis\u001B[39;00m \u001B[38;5;129;01mnot\u001B[39;00m \u001B[38;5;28;01mNone\u001B[39;00m:\n\u001B[1;32m--> 315\u001B[0m     \u001B[38;5;28;01mwith\u001B[39;00m io\u001B[38;5;241m.\u001B[39mopen(filename, \u001B[38;5;124m'\u001B[39m\u001B[38;5;124mrb\u001B[39m\u001B[38;5;124m'\u001B[39m) \u001B[38;5;28;01mas\u001B[39;00m file:\n\u001B[0;32m    316\u001B[0m         \u001B[38;5;28mself\u001B[39m\u001B[38;5;241m.\u001B[39m_load(file)\n",
      "\u001B[1;31mKeyboardInterrupt\u001B[0m: "
     ]
    }
   ],
   "source": [
    "# load data from Midis, because bpm = 120，so one beat time = 60 / 120 = 0.5\n",
    "# And in 4/4 we divide 4 beat to 24 step/frames, each will be 0.5 * 4 / 24  = 0.5 / 6 sec\n",
    "# It takes a little bit long time.\n",
    "ml = MIDI_Loader(\"Irish\",minStep = 0.5 / 6)\n",
    "ml.load(midi_path)"
   ]
  },
  {
   "cell_type": "code",
   "execution_count": null,
   "metadata": {
    "collapsed": false,
    "jupyter": {
     "outputs_hidden": false
    },
    "pycharm": {
     "name": "#%%\n"
    }
   },
   "outputs": [],
   "source": [
    "# process all files to the mesaure data for VAE tranining\n",
    "data = ml.processed_all()"
   ]
  },
  {
   "cell_type": "code",
   "execution_count": null,
   "metadata": {
    "collapsed": false,
    "jupyter": {
     "outputs_hidden": false
    },
    "pycharm": {
     "name": "#%%\n"
    }
   },
   "outputs": [],
   "source": [
    "for d in data:\n",
    "    del d['raw']"
   ]
  },
  {
   "cell_type": "code",
   "execution_count": null,
   "metadata": {
    "collapsed": false,
    "jupyter": {
     "outputs_hidden": false
    },
    "pycharm": {
     "name": "#%%\n"
    }
   },
   "outputs": [],
   "source": [
    "# note extraction\n",
    "hold_state = 128\n",
    "rest_state = 129\n",
    "def extract_note(x, pad_token = 128):\n",
    "    d = []\n",
    "    for i in x:\n",
    "        if i < 128:\n",
    "            d.append(i)\n",
    "    ori_d = len(d)\n",
    "    d.extend([pad_token] * (len(x) - len(d)))\n",
    "    return np.array(d), ori_d\n",
    "\n",
    "def extract_rhythm(x, hold_token = 2, rest_token = 3):\n",
    "    d = []\n",
    "    for i in x:\n",
    "        if i < 128:\n",
    "             d.append(1)\n",
    "        elif i == hold_state:\n",
    "             d.append(hold_token)\n",
    "        else:\n",
    "             d.append(rest_token)\n",
    "    return np.array(d)\n"
   ]
  },
  {
   "cell_type": "code",
   "execution_count": null,
   "metadata": {
    "collapsed": false,
    "jupyter": {
     "outputs_hidden": false
    },
    "pycharm": {
     "name": "#%%\n"
    }
   },
   "outputs": [],
   "source": [
    "# process rhythm and pitch tokens\n",
    "split_size = 24\n",
    "new_data = []\n",
    "# change here to be train_x/validate_x/test_x\n",
    "for i,d in enumerate(data):\n",
    "    d = np.array(d[\"notes\"])\n",
    "    ds = np.split(d, list(range(split_size,len(d),split_size)))\n",
    "    data = []\n",
    "    for sd in ds:\n",
    "        if len(sd) != split_size:\n",
    "            continue\n",
    "        q,k = extract_note(sd)\n",
    "        if k == 0:\n",
    "            continue\n",
    "        s = extract_rhythm(sd)\n",
    "        data.append([sd,q,s,k])\n",
    "    new_data.append(data)\n",
    "    if i % 1000 == 0:\n",
    "        print(\"processed:\", i)"
   ]
  },
  {
   "cell_type": "code",
   "execution_count": null,
   "metadata": {
    "collapsed": false,
    "jupyter": {
     "outputs_hidden": false
    },
    "pycharm": {
     "name": "#%%\n"
    }
   },
   "outputs": [],
   "source": [
    "# we need to extract each measure in each song\n",
    "length = int(len(new_data[0]) / 12)\n",
    "res = []\n",
    "for i in range(length):\n",
    "    res.append(np.array(new_data[0][12*i:12*(i+1)]))\n",
    "print(res)"
   ]
  },
  {
   "cell_type": "code",
   "execution_count": null,
   "metadata": {
    "collapsed": false,
    "jupyter": {
     "outputs_hidden": false
    },
    "pycharm": {
     "name": "#%%\n"
    }
   },
   "outputs": [],
   "source": [
    "'''\n",
    "In this file we eval the sketchnet\n",
    "Notice the eval of stage-1 and stage-2 is the same\n",
    "So we include as one file\n",
    "We provide a sceneario for simply sketching\n",
    "You can choose one another song B and take any part of it as a sketch information to the original song A, to see what the generation will be\n",
    "'''\n",
    "import torch\n",
    "import os\n",
    "import numpy as np\n",
    "from torch import optim\n",
    "from torch.nn import functional as F\n",
    "from SketchVAE.sketchvae import SketchVAE\n",
    "from torch import optim\n",
    "from torch.utils.data import Dataset, DataLoader, TensorDataset\n",
    "from torch.distributions import Normal\n",
    "from SketchNet.sketchnet import SketchNet\n",
    "from utils.helpers import *\n",
    "import time\n",
    "###############################\n",
    "# initial parameters\n",
    "s_dir = \"\"\n",
    "zp_dims = 128\n",
    "zr_dims = 128\n",
    "pf_dims = 512\n",
    "gen_dims = 1024\n",
    "combine_dims = 512\n",
    "combine_head = 4\n",
    "combine_num = 4\n",
    "pf_num = 2\n",
    "inpaint_len = 4\n",
    "seq_len = 16\n",
    "total_len = 16\n",
    "batch_size = 1\n",
    "n_epochs = 15\n",
    "lr = 1e-4\n",
    "decay = 0.9999\n",
    "##############################\n",
    "##############  for vae init ##############\n",
    "vae_hidden_dims = 1024\n",
    "vae_zp_dims = 128\n",
    "vae_zr_dims = 128\n",
    "vae_beta = 0.1\n",
    "vae_input_dims = 130\n",
    "vae_pitch_dims = 129\n",
    "vae_rhythm_dims = 3\n",
    "vae_seq_len = 6 * 4\n",
    "vae_beat_num = 4\n",
    "vae_tick_num = 6\n",
    "############################"
   ]
  },
  {
   "cell_type": "code",
   "execution_count": null,
   "metadata": {
    "collapsed": false,
    "jupyter": {
     "outputs_hidden": false
    },
    "pycharm": {
     "name": "#%%\n"
    }
   },
   "outputs": [],
   "source": [
    "# input data dis-measure-vae\n",
    "def processed_data_tensor(data):\n",
    "    print(\"processed data:\")\n",
    "    gd = []\n",
    "    px = []\n",
    "    rx = []\n",
    "    len_x = []\n",
    "    nrx = []\n",
    "    total = 0\n",
    "    for i, d in enumerate(data):\n",
    "        gd.append([list(dd[0]) for dd in d])\n",
    "        px.append([list(dd[1]) for dd in d])\n",
    "        rx.append([list(dd[2]) for dd in d])\n",
    "        len_x.append([dd[3] for dd in d])\n",
    "        if len(gd[-1][-1]) != vae_seq_len:\n",
    "            gd[-1][-1].extend([128] * (vae_seq_len - len(gd[-1][-1])))\n",
    "            px[-1][-1].extend([128] * (vae_seq_len - len(px[-1][-1])))\n",
    "            rx[-1][-1].extend([2] * (vae_seq_len - len(rx[-1][-1])))\n",
    "    for i,d in enumerate(len_x):\n",
    "        for j,dd in enumerate(d):\n",
    "            if len_x[i][j] == 0:\n",
    "                gd[i][j][0] = 60\n",
    "                px[i][j][0] = 60\n",
    "                rx[i][j][0] = 1\n",
    "                len_x[i][j] = 1\n",
    "                total += 1\n",
    "    gd = np.array(gd)\n",
    "    px = np.array(px)\n",
    "    rx = np.array(rx)\n",
    "    len_x = np.array(len_x)\n",
    "    for d in rx:\n",
    "        nnrx = []\n",
    "        for dd in d:\n",
    "            temp = np.zeros((vae_seq_len, vae_rhythm_dims))\n",
    "            lins = np.arange(0, len(dd))\n",
    "            temp[lins, dd - 1] = 1\n",
    "            nnrx.append(temp)\n",
    "        nrx.append(nnrx)\n",
    "    nrx = np.array(nrx)\n",
    "    gd = torch.from_numpy(gd).long()\n",
    "    px = torch.from_numpy(px).long()\n",
    "    rx = torch.from_numpy(rx).float()\n",
    "    len_x = torch.from_numpy(len_x).long()\n",
    "    nrx = torch.from_numpy(nrx).float()\n",
    "    print(\"processed finish! zeros:\", total)\n",
    "    print(gd.size(),px.size(),rx.size(),len_x.size(),nrx.size())\n",
    "    return TensorDataset(px, rx, len_x, nrx, gd)"
   ]
  },
  {
   "cell_type": "code",
   "execution_count": null,
   "metadata": {
    "collapsed": false,
    "jupyter": {
     "outputs_hidden": false
    },
    "pycharm": {
     "name": "#%%\n"
    }
   },
   "outputs": [],
   "source": [
    "validate_set = res\n",
    "print(validate_set)\n",
    "print(validate_set[0][0])\n",
    "print(len(validate_set[0][1]))\n",
    "validate_loader = DataLoader(\n",
    "    dataset = processed_data_tensor(validate_set),\n",
    "    batch_size = 1,\n",
    "    shuffle = False,\n",
    "    num_workers = 8,\n",
    "    pin_memory = True,\n",
    "    drop_last = False\n",
    ")\n",
    "# dataset = processed_data_tensor(validate_set)\n",
    "# print(validate_set)\n",
    "\n",
    "validate_data = []\n",
    "for i,d in enumerate(validate_loader):\n",
    "    validate_data.append(d)\n",
    "print(len(validate_data))"
   ]
  },
  {
   "cell_type": "code",
   "execution_count": null,
   "metadata": {
    "collapsed": false,
    "jupyter": {
     "outputs_hidden": false
    },
    "pycharm": {
     "name": "#%%\n"
    }
   },
   "outputs": [],
   "source": [
    "# load VAE model\n",
    "vae_model = SketchVAE(\n",
    "    vae_input_dims, vae_pitch_dims, vae_rhythm_dims, vae_hidden_dims,\n",
    "    vae_zp_dims, vae_zr_dims, vae_seq_len, vae_beat_num, vae_tick_num, 4000)\n",
    "dic = torch.load(\"model_backup/sketchvae-loss_0.04306925100494333_acc_0.9972101456969356_epoch_26_it_174824.pt\")\n",
    "\n",
    "for name in list(dic.keys()):\n",
    "    dic[name.replace('module.', '')] = dic.pop(name)\n",
    "vae_model.load_state_dict(dic)\n",
    "\n",
    "if torch.cuda.is_available():\n",
    "    print('Using: ', torch.cuda.get_device_name(torch.cuda.current_device()))\n",
    "    vae_model.cuda()\n",
    "else:\n",
    "    print('Using: CPU')\n",
    "vae_model.eval()\n",
    "print(vae_model.training)"
   ]
  },
  {
   "cell_type": "code",
   "execution_count": null,
   "metadata": {
    "collapsed": false,
    "jupyter": {
     "outputs_hidden": false
    },
    "pycharm": {
     "name": "#%%\n"
    }
   },
   "outputs": [],
   "source": [
    "# import model\n",
    "save_path = s_dir +\"model_backup/\"\n",
    "save_period = 5\n",
    "\n",
    "# think about traning with mse\n",
    "model = SketchNet(\n",
    "    zp_dims, zr_dims,\n",
    "    pf_dims, gen_dims, combine_dims,\n",
    "    pf_num, combine_num, combine_head,\n",
    "    inpaint_len, total_len,\n",
    "    vae_model, True\n",
    ")\n",
    "dic = torch.load(save_path + \"sketchNet-stage-1loss_0.5944014993628857_acc_0.8705233683628317_epoch_90_it_111870.pt\")\n",
    "for name in list(dic.keys()):\n",
    "    dic[name.replace('module.', '')] = dic.pop(name)\n",
    "model.load_state_dict(dic)\n",
    "model.set_stage(\"sketch\")\n",
    "\n",
    "if torch.cuda.is_available():\n",
    "    print('Using: ', torch.cuda.get_device_name(torch.cuda.current_device()))\n",
    "    model.cuda()\n",
    "else:\n",
    "    print('Using: CPU')\n",
    "# print(model)\n",
    "# model.eval()"
   ]
  },
  {
   "cell_type": "code",
   "execution_count": null,
   "metadata": {
    "collapsed": false,
    "jupyter": {
     "outputs_hidden": false
    },
    "pycharm": {
     "name": "#%%\n"
    }
   },
   "outputs": [],
   "source": [
    "# for normal eval process\n",
    "def process_raw_x(raw_x, n_past, n_inpaint, n_future):\n",
    "    raw_px, raw_rx, raw_len_x, raw_nrx, raw_gd = raw_x\n",
    "    past_px = raw_px[:,:n_past,:]\n",
    "    inpaint_px = raw_px[:,n_past:n_past + n_inpaint,:]\n",
    "    future_px = raw_px[:,n_future:,:]\n",
    "    past_rx = raw_rx[:,:n_past,:]\n",
    "    inpaint_rx = raw_rx[:,n_past:n_past + n_inpaint,:]\n",
    "    future_rx = raw_rx[:,n_future:,:]\n",
    "    past_len_x = raw_len_x[:,:n_past]\n",
    "    inpaint_len_x = raw_len_x[:,n_past:n_past + n_inpaint]\n",
    "    future_len_x = raw_len_x[:,n_future:]\n",
    "    past_nrx = raw_nrx[:,:n_past,:]\n",
    "    inpaint_nrx = raw_nrx[:,n_past:n_past + n_inpaint,:]\n",
    "    future_nrx = raw_nrx[:,n_future:,:]\n",
    "    past_gd = raw_gd[:,:n_past,:]\n",
    "    inpaint_gd = raw_gd[:,n_past:n_past + n_inpaint,:]\n",
    "    future_gd = raw_gd[:,n_future:,:]\n",
    "    re = [\n",
    "        past_px, past_rx, past_len_x, past_nrx, past_gd,\n",
    "        inpaint_px, inpaint_rx, inpaint_len_x, inpaint_nrx, inpaint_gd,\n",
    "        future_px, future_rx, future_len_x, future_nrx, future_gd,\n",
    "    ]\n",
    "    return re\n",
    "def get_acc(recon, gd):\n",
    "    recon = recon.cpu().detach().numpy()\n",
    "    gd = gd.cpu().detach().numpy()\n",
    "    return np.sum(recon == gd) / recon.size\n"
   ]
  },
  {
   "cell_type": "code",
   "execution_count": null,
   "metadata": {
    "collapsed": false,
    "jupyter": {
     "outputs_hidden": false
    },
    "pycharm": {
     "name": "#%%\n"
    }
   },
   "outputs": [],
   "source": [
    "model.set_stage(\"sketch\")\n",
    "device = torch.device(\"cuda\" if torch.cuda.is_available() else \"cpu\")\n",
    "\n",
    "save_period = 5\n",
    "losses = []\n",
    "step = 0\n",
    "n_past = 6\n",
    "n_future = 10\n",
    "n_inpaint = 4\n",
    "iteration = 0\n",
    "output = []\n",
    "v_mean_loss = 0.0\n",
    "v_mean_acc = 0.0\n",
    "total = 0\n",
    "print(vae_model.training)\n",
    "for i in range(1):\n",
    "    val = []\n",
    "    val.append(validate_data[i])\n",
    "    v_raw_x = process_raw_x(validate_data[i], n_past, n_inpaint, n_future)\n",
    "    for k in range(len(v_raw_x)):\n",
    "        v_raw_x[k] = v_raw_x[k].to(device = device,non_blocking = True)\n",
    "    v_past_px, v_past_rx, v_past_len_x, v_past_nrx, v_past_gd, \\\n",
    "    v_inpaint_px, v_inpaint_rx, v_inpaint_len_x, v_inpaint_nrx, v_inpaint_gd,\\\n",
    "    v_future_px, v_future_rx, v_future_len_x, v_future_nrx, v_future_gd = v_raw_x\n",
    "    v_inpaint_gd_whole = v_inpaint_gd.contiguous().view(-1)\n",
    "    v_past_x = [v_past_px, v_past_rx, v_past_len_x, v_past_nrx, v_past_gd]\n",
    "    v_inpaint_x = [v_inpaint_px, v_inpaint_rx, v_inpaint_len_x, v_inpaint_nrx, v_inpaint_gd]\n",
    "    v_future_x = [v_future_px, v_future_rx, v_future_len_x, v_future_nrx, v_future_gd]\n",
    "\n",
    "    model.eval()\n",
    "    with torch.no_grad():\n",
    "        v_recon_x, _,_,_ = model(v_past_x, v_future_x, v_inpaint_x)\n",
    "        v_loss = F.cross_entropy(v_recon_x.view(-1, v_recon_x.size(-1)), v_inpaint_gd_whole, reduction = \"mean\")\n",
    "        v_acc = get_acc(v_recon_x.view(-1, v_recon_x.size(-1)).argmax(-1), v_inpaint_gd_whole)\n",
    "        v_mean_loss += v_loss.item()\n",
    "        v_mean_acc += v_acc\n",
    "        v_result = v_recon_x.argmax(-1)\n",
    "    total += 1\n",
    "    output.append(\n",
    "        {\n",
    "         \"past\": v_past_gd.cpu().detach().numpy(),\n",
    "         \"future\":v_future_gd.cpu().detach().numpy(),\n",
    "         \"inpaint\":v_result.cpu().detach().numpy(),\n",
    "         \"gd\":v_inpaint_gd.cpu().detach().numpy(),\n",
    "         \"acc\":v_acc,\n",
    "         \"nll\":v_loss.item()\n",
    "        }\n",
    "    )\n",
    "    print(output)"
   ]
  },
  {
   "cell_type": "code",
   "execution_count": null,
   "metadata": {
    "pycharm": {
     "name": "#%%\n"
    }
   },
   "outputs": [],
   "source": [
    "from loader.dataloader import MIDI_Render\n",
    "m = MIDI_Render(\"Irish\", minStep = 0.5 / 6)\n",
    "print(output[0][\"gd\"])\n",
    "output[0][\"notes\"]=output[0][\"gd\"]\n",
    "res=[]\n",
    "for c in output[0][\"gd\"]:\n",
    "    print(\"____\")\n",
    "    for cc in c:\n",
    "        for ccc in c:\n",
    "            for cccc in ccc:\n",
    "                res.append(cccc)\n",
    "\n",
    "data = {'notes':res}\n",
    "m.data2midi(data)"
   ]
  },
  {
   "cell_type": "code",
   "execution_count": null,
   "metadata": {
    "pycharm": {
     "name": "#%%\n"
    }
   },
   "outputs": [],
   "source": []
  }
 ],
 "metadata": {
  "kernelspec": {
   "display_name": "Python 3 (ipykernel)",
   "language": "python",
   "name": "python3"
  },
  "language_info": {
   "codemirror_mode": {
    "name": "ipython",
    "version": 3
   },
   "file_extension": ".py",
   "mimetype": "text/x-python",
   "name": "python",
   "nbconvert_exporter": "python",
   "pygments_lexer": "ipython3",
   "version": "3.8.13"
  }
 },
 "nbformat": 4,
 "nbformat_minor": 4
}