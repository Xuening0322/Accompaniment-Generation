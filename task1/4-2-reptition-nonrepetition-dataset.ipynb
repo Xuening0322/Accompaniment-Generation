{
 "cells": [
  {
   "cell_type": "code",
   "execution_count": 1,
   "metadata": {
    "pycharm": {
     "name": "#%%\n"
    }
   },
   "outputs": [],
   "source": [
    "'''\n",
    "4-1 is deleted because it is the file from the previous version\n",
    "In this file we calculate the similarity between past and future conetext measures to develop two subsets.\n",
    "You don't need to use this because the subsets have already been there in your download material.\n",
    "We just show the code here to let you know our process.\n",
    "'''\n",
    "import numpy as np\n",
    "import matplotlib.pyplot as plt"
   ]
  },
  {
   "cell_type": "code",
   "execution_count": 2,
   "metadata": {
    "pycharm": {
     "name": "#%%\n"
    }
   },
   "outputs": [],
   "source": [
    "data = np.load(\"data/irish-dis-measure-vae-test-whole.npy\", allow_pickle = True)"
   ]
  },
  {
   "cell_type": "code",
   "execution_count": 4,
   "metadata": {
    "pycharm": {
     "name": "#%%\n"
    }
   },
   "outputs": [],
   "source": [
    "def similarity(a, b):\n",
    "    s = len(a)\n",
    "    max_acc = 0.0\n",
    "    num_pitch = np.sum(a < 128)\n",
    "    for i in range(s):\n",
    "        temp = np.concatenate((a[i:],a[:i]))\n",
    "#         acc = np.sum(temp == b) / s\n",
    "        acc = np.sum(np.logical_and(temp == b,  temp < 128)) / num_pitch\n",
    "        max_acc = max(acc, max_acc)\n",
    "    return max_acc\n"
   ]
  },
  {
   "cell_type": "code",
   "execution_count": null,
   "metadata": {
    "scrolled": true,
    "pycharm": {
     "name": "#%%\n"
    }
   },
   "outputs": [],
   "source": [
    "acc = []\n",
    "for i,d in enumerate(data):\n",
    "    d = d[:,0]\n",
    "    a = np.concatenate((d[:6]))\n",
    "    b = np.concatenate((d[10:]))\n",
    "    acc.append([i,similarity(a,b)])\n",
    "    if i % 100 == 0:\n",
    "        print(\"process:\",i)"
   ]
  },
  {
   "cell_type": "code",
   "execution_count": 7,
   "metadata": {
    "pycharm": {
     "name": "#%%\n"
    }
   },
   "outputs": [],
   "source": [
    "acc.sort(key = lambda x:x[1])\n",
    "acc = np.array(acc)"
   ]
  },
  {
   "cell_type": "code",
   "execution_count": 8,
   "metadata": {
    "pycharm": {
     "name": "#%%\n"
    }
   },
   "outputs": [
    {
     "data": {
      "image/png": "[encoded data removed]",
      "text/plain": [
       "<Figure size 432x288 with 1 Axes>"
      ]
     },
     "metadata": {
      "needs_background": "light"
     },
     "output_type": "display_data"
    }
   ],
   "source": [
    "acc_sim = acc[:,1]\n",
    "acc_sim\n",
    "# similarity distribution\n",
    "num_bins = 100\n",
    "fig, ax = plt.subplots()\n",
    "n, bins, patches = ax.hist(acc_sim, num_bins, density = 1)\n",
    "# ax.plot(bins)\n",
    "plt.show()"
   ]
  },
  {
   "cell_type": "code",
   "execution_count": 9,
   "metadata": {
    "pycharm": {
     "name": "#%%\n"
    }
   },
   "outputs": [],
   "source": [
    "# pick another topK if you want to get the repetition dataset\n",
    "new_data = data[acc[:200,0].astype(int),:,:]\n",
    "np.save(\"irish-dis-measure-vae-validate-non-repetition.npy\", new_data)"
   ]
  },
  {
   "cell_type": "code",
   "execution_count": null,
   "metadata": {
    "pycharm": {
     "name": "#%%\n"
    }
   },
   "outputs": [],
   "source": []
  }
 ],
 "metadata": {
  "kernelspec": {
   "display_name": "Python 3 (ipykernel)",
   "language": "python",
   "name": "python3"
  },
  "language_info": {
   "codemirror_mode": {
    "name": "ipython",
    "version": 3
   },
   "file_extension": ".py",
   "mimetype": "text/x-python",
   "name": "python",
   "nbconvert_exporter": "python",
   "pygments_lexer": "ipython3",
   "version": "3.8.13"
  }
 },
 "nbformat": 4,
 "nbformat_minor": 4
}