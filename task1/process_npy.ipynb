{
 "cells": [
  {
   "cell_type": "code",
   "execution_count": 63,
   "id": "32e42937-9c20-42ea-b639-580315de706d",
   "metadata": {
    "pycharm": {
     "name": "#%%\n"
    }
   },
   "outputs": [],
   "source": [
    "import os\n",
    "import numpy as np\n",
    "from tqdm import *"
   ]
  },
  {
   "cell_type": "code",
   "execution_count": 64,
   "id": "a7a64f32-d01b-4251-af69-25f109cc0f9f",
   "metadata": {
    "pycharm": {
     "name": "#%%\n"
    }
   },
   "outputs": [],
   "source": [
    "# data_path = [\n",
    "#     \"data/irish-dis-measure-vae-train-whole.npy\",\n",
    "#     \"data/irish-dis-measure-vae-validate-whole.npy\",\n",
    "#     \"data/irish-dis-measure-vae-test-whole.npy\"\n",
    "# ]\n",
    "\n",
    "\n",
    "data_path = [\"data/irish_train_chord_rhythm.npy\",\n",
    "             \"data/irish_validate_chord_rhythm.npy\",\n",
    "             \"data/irish_test_chord_rhythm.npy\"]"
   ]
  },
  {
   "cell_type": "code",
   "execution_count": 65,
   "outputs": [
    {
     "name": "stdout",
     "output_type": "stream",
     "text": [
      "(30488, 4)\n",
      "30488\n",
      "4\n"
     ]
    }
   ],
   "source": [
    "# data = np.load(data_path[0], allow_pickle=True)\n",
    "# data = np.load(data_path[1], allow_pickle=True)\n",
    "data = np.load(data_path[2], allow_pickle=True)\n",
    "print(data.shape)\n",
    "print(len(data))\n",
    "print(len(data[0]))"
   ],
   "metadata": {
    "collapsed": false,
    "pycharm": {
     "name": "#%%\n"
    }
   }
  },
  {
   "cell_type": "code",
   "execution_count": 66,
   "id": "a9082588-31e2-495f-8b48-a0902aedc75f",
   "metadata": {
    "pycharm": {
     "name": "#%%\n"
    }
   },
   "outputs": [
    {
     "name": "stdout",
     "output_type": "stream",
     "text": [
      "(30488, 1, 4)\n",
      "(2540, 12, 4)\n",
      "(2540, 12, 4)\n"
     ]
    }
   ],
   "source": [
    "# transforms data.shape from (x, 4) to (x/12, 12, 4)\n",
    "delete_part= 30000 # delete part of the data to make the data more uniform\n",
    "delete_len=0 # delete length of the data to make the data more uniform\n",
    "new=np.expand_dims(data, axis=1)\n",
    "print(new.shape)\n",
    "delete_len = len(new) % 12\n",
    "\n",
    "for i in range(delete_part,delete_part+delete_len):\n",
    "    new = np.delete(new, i, axis=0)\n",
    "# print(new.shape)\n",
    "new=new.reshape(int(-1),12,4)\n",
    "print(new.shape)\n",
    "\n",
    "\n",
    "# for i in tqdm(range(len(data))):\n",
    "#     x = np.split(data[i], 12)\n",
    "#     for xx in x:\n",
    "#         new.append(xx)\n",
    "\n",
    "\n",
    "# np.save(\"data/irish_train_chord_rhythm-new.npy\", new)\n",
    "# data1 = np.load(\"data/irish_train_chord_rhythm-new.npy\", allow_pickle=True)\n",
    "# np.save(\"data/irish_validate_chord_rhythm-new.npy\", new)\n",
    "# data1 = np.load(\"data/irish_validate_chord_rhythm-new.npy\", allow_pickle=True)\n",
    "np.save(\"data/irish_test_chord_rhythm-new.npy\", new)\n",
    "data1 = np.load(\"data/irish_test_chord_rhythm-new.npy\", allow_pickle=True)\n",
    "print(data1.shape)\n",
    "# print(\"original\")\n",
    "# print(data[0])\n"
   ]
  },
  {
   "cell_type": "markdown",
   "source": [],
   "metadata": {
    "collapsed": false,
    "pycharm": {
     "name": "#%% md\n"
    }
   }
  },
  {
   "cell_type": "markdown",
   "source": [],
   "metadata": {
    "collapsed": false,
    "pycharm": {
     "name": "#%% md\n"
    }
   }
  }
 ],
 "metadata": {
  "kernelspec": {
   "display_name": "Python 3 (ipykernel)",
   "language": "python",
   "name": "python3"
  },
  "language_info": {
   "codemirror_mode": {
    "name": "ipython",
    "version": 3
   },
   "file_extension": ".py",
   "mimetype": "text/x-python",
   "name": "python",
   "nbconvert_exporter": "python",
   "pygments_lexer": "ipython3",
   "version": "3.8.13"
  }
 },
 "nbformat": 4,
 "nbformat_minor": 5
}