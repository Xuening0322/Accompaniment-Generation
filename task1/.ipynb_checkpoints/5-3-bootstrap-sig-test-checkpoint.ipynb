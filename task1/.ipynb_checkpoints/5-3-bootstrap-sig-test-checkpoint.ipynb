{
 "cells": [
  {
   "cell_type": "code",
   "execution_count": 83,
   "metadata": {},
   "outputs": [],
   "source": [
    "'''\n",
    "This is the bootstrap significance test of models and the subjective listening test\n",
    "'''\n",
    "import numpy as np\n",
    "import pandas as pd\n",
    "import os\n",
    "import random\n",
    "\n",
    "data_list = [\n",
    "    \"Music InpaintNet\", \n",
    "    \"SketchVAE + InpaintRNN\", \n",
    "    \"SketchVAE+ + SketchInpainter\", \n",
    "    \"SketchNet\"\n",
    "]\n",
    "data_path = [\n",
    "    \"result/res-validate-irish-inpaintNet.npy\",\n",
    "    \"result/res-validate-irish-inpaintNet-sketchvae.npy\",\n",
    "    \"result/res-validate-irish-sketchnet-stage-1.npy\",\n",
    "    \"result/res-validate-irish-sketchnet.npy\"\n",
    "]\n",
    "# subjective listening test file\n",
    "slt_path = \"response.tsv\""
   ]
  },
  {
   "cell_type": "code",
   "execution_count": 58,
   "metadata": {},
   "outputs": [],
   "source": [
    "def ae_bootstrap(set_a, set_b, sample_time):\n",
    "    ave_a = np.mean(set_a)\n",
    "    ave_b = np.mean(set_b)\n",
    "    eps = np.abs(ave_a - ave_b)\n",
    "    new_set = set_a + set_b\n",
    "    s = len(set_a)\n",
    "    p = 0\n",
    "    for i in range(sample_time):\n",
    "        random.shuffle(new_set)\n",
    "        na = new_set[:s]\n",
    "        nb = new_set[s:]\n",
    "        n_eps = np.abs(np.mean(na) - np.mean(nb))\n",
    "        if n_eps > eps:\n",
    "            p += 1\n",
    "    return p / sample_time"
   ]
  },
  {
   "cell_type": "code",
   "execution_count": 60,
   "metadata": {},
   "outputs": [
    {
     "name": "stdout",
     "output_type": "stream",
     "text": [
      "[3.04716981 2.97798742 3.21698113]\n",
      "[3.28616352 3.00943396 3.46540881]\n",
      "[3.26415094 3.08805031 3.55660377]\n",
      "p-value complexity (0, 1): 0.363600\n",
      "p-value structure (0, 1): 0.000200\n",
      "p-value musicality (0, 1): 0.028900\n",
      "p-value complexity (0, 2): 0.029600\n",
      "p-value structure (0, 2): 0.018600\n",
      "p-value musicality (0, 2): 0.000100\n",
      "p-value complexity (1, 2): 0.003500\n",
      "p-value structure (1, 2): 0.000000\n",
      "p-value musicality (1, 2): 0.000000\n"
     ]
    }
   ],
   "source": [
    "# subjective listening test\n",
    "# row 1-3 sketchnet | 4-6 inpaintnet | 7-9 original\n",
    "slt_data = pd.read_csv(slt_path, sep='\\t')\n",
    "slt_data = slt_data.values[:-1]\n",
    "complexity = [[],[],[]]\n",
    "structure = [[],[],[]]\n",
    "musicality = [[],[],[]]\n",
    "\n",
    "complexity[0] = [d[0] for d in slt_data]\n",
    "complexity[1] = [d[3] for d in slt_data]\n",
    "complexity[2] = [d[6] for d in slt_data]\n",
    "\n",
    "structure[0] = [d[1] for d in slt_data]\n",
    "structure[1] = [d[4] for d in slt_data]\n",
    "structure[2] = [d[7] for d in slt_data]\n",
    "\n",
    "musicality[0] = [d[2] for d in slt_data]\n",
    "musicality[1] = [d[5] for d in slt_data]\n",
    "musicality[2] = [d[8] for d in slt_data]\n",
    "\n",
    "print(np.mean(complexity, axis = -1))\n",
    "print(np.mean(structure, axis = -1))\n",
    "print(np.mean(musicality, axis = -1))\n",
    "\n",
    "for d in [[0,1],[0,2],[1,2]]:\n",
    "    i,j = d\n",
    "    print(\"p-value complexity (%d, %d): %lf\" % (i,j, ae_bootstrap(complexity[i], complexity[j], 10000)))\n",
    "    print(\"p-value structure (%d, %d): %lf\" % (i,j, ae_bootstrap(structure[i], structure[j], 10000)))\n",
    "    print(\"p-value musicality (%d, %d): %lf\" % (i,j, ae_bootstrap(musicality[i], musicality[j], 10000)))"
   ]
  },
  {
   "cell_type": "code",
   "execution_count": 90,
   "metadata": {},
   "outputs": [
    {
     "name": "stdout",
     "output_type": "stream",
     "text": [
      "Music InpaintNet overall acc: 0.838169\n",
      "p-value acc (0, 1): 0.402200\n",
      "p-value acc (0, 2): 0.000000\n",
      "p-value acc (0, 3): 0.000000\n",
      "SketchVAE + InpaintRNN overall acc: 0.841010\n",
      "p-value acc (1, 2): 0.000000\n",
      "p-value acc (1, 3): 0.000000\n",
      "SketchVAE+ + SketchInpainter overall acc: 0.860255\n",
      "p-value acc (2, 3): 0.000000\n",
      "SketchNet overall acc: 0.889724\n"
     ]
    }
   ],
   "source": [
    "# pairwise model acc\n",
    "# def acc(a,b):\n",
    "#     a = a.reshape(-1)\n",
    "#     b = b.reshape(-1)\n",
    "#     acc = float(np.sum(a == b)) / len(a)\n",
    "#     return acc\n",
    "    \n",
    "data = [np.load(d,allow_pickle = True) for d in data_path]\n",
    "for i in range(len(data)):\n",
    "    accs = [d[\"acc\"] for d in data[i]]\n",
    "    print(\"%s overall acc: %lf\" % (data_list[i], np.mean(accs)))\n",
    "    for j in range(i + 1, len(data)):\n",
    "        accs2 = [d[\"acc\"] for d in data[j]]\n",
    "        print(\"p-value acc (%d, %d): %lf\" % (i,j, ae_bootstrap(accs,accs2, 10000)))\n",
    "        \n",
    "    "
   ]
  },
  {
   "cell_type": "code",
   "execution_count": null,
   "metadata": {},
   "outputs": [],
   "source": []
  },
  {
   "cell_type": "code",
   "execution_count": null,
   "metadata": {},
   "outputs": [],
   "source": []
  }
 ],
 "metadata": {
  "kernelspec": {
   "display_name": "Python 3",
   "language": "python",
   "name": "python3"
  },
  "language_info": {
   "codemirror_mode": {
    "name": "ipython",
    "version": 3
   },
   "file_extension": ".py",
   "mimetype": "text/x-python",
   "name": "python",
   "nbconvert_exporter": "python",
   "pygments_lexer": "ipython3",
   "version": "3.7.6"
  }
 },
 "nbformat": 4,
 "nbformat_minor": 4
}
