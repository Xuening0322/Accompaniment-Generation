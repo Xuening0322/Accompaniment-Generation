{
 "cells": [
  {
   "cell_type": "code",
   "execution_count": 1,
   "metadata": {},
   "outputs": [],
   "source": [
    "'''\n",
    "From here 5-1, all the results are depend on the generation reslut res-xxx-xxx-xxx.npy files\n",
    "These files are the generations from 4-3,4-4,4-5.\n",
    "In this file we caculate loss, pitch accuracy, and rhythm accuracy of each model generation.\n",
    "The code listed below is able to calculate one model's loss and pitch accuracy and rhythm\n",
    "If you want directly see the generation result without training and evaluating, these files can be downloaded in the Github data link.\n",
    "'''\n",
    "import numpy as np\n"
   ]
  },
  {
   "cell_type": "code",
   "execution_count": 2,
   "metadata": {},
   "outputs": [],
   "source": [
    "def pitch_similarity(a, b):\n",
    "    s = len(a)\n",
    "    num_pitch = np.sum(a < 128)\n",
    "    acc = np.sum(np.logical_and(a == b,  a < 128)) / num_pitch\n",
    "    return acc\n",
    "def rhythm_similarity(a,b):\n",
    "    s = len(a)\n",
    "    num_pitch = np.sum(a >= 128)\n",
    "    acc = np.sum(np.logical_and(a == b,  a >= 128)) / num_pitch\n",
    "    return acc\n",
    "    "
   ]
  },
  {
   "cell_type": "code",
   "execution_count": 3,
   "metadata": {
    "scrolled": true
   },
   "outputs": [
    {
     "ename": "FileNotFoundError",
     "evalue": "[Errno 2] No such file or directory: 'res-validate-irish-sketchnet-stage-1.npy'",
     "output_type": "error",
     "traceback": [
      "\u001b[0;31m---------------------------------------------------------------------------\u001b[0m",
      "\u001b[0;31mFileNotFoundError\u001b[0m                         Traceback (most recent call last)",
      "Input \u001b[0;32mIn [3]\u001b[0m, in \u001b[0;36m<cell line: 2>\u001b[0;34m()\u001b[0m\n\u001b[1;32m      1\u001b[0m \u001b[38;5;66;03m# this loaded file is the generation result we save in 4-3,4-4,4-5\u001b[39;00m\n\u001b[0;32m----> 2\u001b[0m data \u001b[38;5;241m=\u001b[39m \u001b[43mnp\u001b[49m\u001b[38;5;241;43m.\u001b[39;49m\u001b[43mload\u001b[49m\u001b[43m(\u001b[49m\u001b[38;5;124;43m\"\u001b[39;49m\u001b[38;5;124;43mres-validate-irish-sketchnet-stage-1.npy\u001b[39;49m\u001b[38;5;124;43m\"\u001b[39;49m\u001b[43m,\u001b[49m\u001b[43m \u001b[49m\u001b[43mallow_pickle\u001b[49m\u001b[43m \u001b[49m\u001b[38;5;241;43m=\u001b[39;49m\u001b[43m \u001b[49m\u001b[38;5;28;43;01mTrue\u001b[39;49;00m\u001b[43m)\u001b[49m\n\u001b[1;32m      3\u001b[0m racc \u001b[38;5;241m=\u001b[39m \u001b[38;5;241m0.0\u001b[39m\n\u001b[1;32m      4\u001b[0m pacc \u001b[38;5;241m=\u001b[39m \u001b[38;5;241m0.0\u001b[39m\n",
      "File \u001b[0;32m/usr/local/lib/python3.8/dist-packages/numpy/lib/npyio.py:407\u001b[0m, in \u001b[0;36mload\u001b[0;34m(file, mmap_mode, allow_pickle, fix_imports, encoding)\u001b[0m\n\u001b[1;32m    405\u001b[0m     own_fid \u001b[38;5;241m=\u001b[39m \u001b[38;5;28;01mFalse\u001b[39;00m\n\u001b[1;32m    406\u001b[0m \u001b[38;5;28;01melse\u001b[39;00m:\n\u001b[0;32m--> 407\u001b[0m     fid \u001b[38;5;241m=\u001b[39m stack\u001b[38;5;241m.\u001b[39menter_context(\u001b[38;5;28;43mopen\u001b[39;49m\u001b[43m(\u001b[49m\u001b[43mos_fspath\u001b[49m\u001b[43m(\u001b[49m\u001b[43mfile\u001b[49m\u001b[43m)\u001b[49m\u001b[43m,\u001b[49m\u001b[43m \u001b[49m\u001b[38;5;124;43m\"\u001b[39;49m\u001b[38;5;124;43mrb\u001b[39;49m\u001b[38;5;124;43m\"\u001b[39;49m\u001b[43m)\u001b[49m)\n\u001b[1;32m    408\u001b[0m     own_fid \u001b[38;5;241m=\u001b[39m \u001b[38;5;28;01mTrue\u001b[39;00m\n\u001b[1;32m    410\u001b[0m \u001b[38;5;66;03m# Code to distinguish from NumPy binary files and pickles.\u001b[39;00m\n",
      "\u001b[0;31mFileNotFoundError\u001b[0m: [Errno 2] No such file or directory: 'res-validate-irish-sketchnet-stage-1.npy'"
     ]
    }
   ],
   "source": [
    "# this loaded file is the generation result we save in 4-3,4-4,4-5\n",
    "# data = np.load(\"res-validate-irish-sketchnet-stage-1.npy\", allow_pickle = True)\n",
    "\n",
    "data = np.load(\"res-exp-sketchnet_control_mixture_2.npy\", allow_pickle = True)\n",
    "racc = 0.0\n",
    "pacc = 0.0\n",
    "total = 0\n",
    "for i, d in enumerate(data):\n",
    "    inpaint = d[\"inpaint\"]\n",
    "    gd = d[\"gd\"]\n",
    "    o_note = gd\n",
    "    r_note = inpaint\n",
    "    for j in range(len(o_note)):\n",
    "        x = np.concatenate(o_note[j], -1)\n",
    "        y = np.concatenate(r_note[j], -1)\n",
    "        total += 1\n",
    "        pacc += pitch_similarity(x,y)\n",
    "        racc += rhythm_similarity(x,y)\n",
    "print(len(data))\n",
    "print(pacc / total, racc / total)"
   ]
  },
  {
   "cell_type": "code",
   "execution_count": null,
   "metadata": {},
   "outputs": [],
   "source": []
  }
 ],
 "metadata": {
  "kernelspec": {
   "display_name": "Python 3 (ipykernel)",
   "language": "python",
   "name": "python3"
  },
  "language_info": {
   "codemirror_mode": {
    "name": "ipython",
    "version": 3
   },
   "file_extension": ".py",
   "mimetype": "text/x-python",
   "name": "python",
   "nbconvert_exporter": "python",
   "pygments_lexer": "ipython3",
   "version": "3.8.13"
  }
 },
 "nbformat": 4,
 "nbformat_minor": 4
}
