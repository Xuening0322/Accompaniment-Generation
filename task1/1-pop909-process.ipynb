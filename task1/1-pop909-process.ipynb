{
 "cells": [
  {
   "cell_type": "code",
   "execution_count": 1,
   "metadata": {
    "pycharm": {
     "name": "#%%\n"
    }
   },
   "outputs": [
    {
     "name": "stdout",
     "output_type": "stream",
     "text": [
      "True\n"
     ]
    }
   ],
   "source": [
    "import os\n",
    "import copy\n",
    "import random\n",
    "import numpy as np\n",
    "import pretty_midi as pyd\n",
    "from loader.dataloader import MIDI_Loader\n",
    "\n",
    "s_dir = \"\" # folder address\n",
    "# dataset_path = \"/Users/wxn/Desktop/surf/test_dataset/\" # dataset path\n",
    "# dataset_path = r\"dataset/dataset_A4/\" # dataset path\n",
    "dataset_path = r\"dataset/dataset_B4/\" # dataset path\n",
    "print(os.path.exists(dataset_path))"
   ]
  },
  {
   "cell_type": "code",
   "execution_count": 2,
   "metadata": {
    "collapsed": true,
    "pycharm": {
     "name": "#%%\n"
    }
   },
   "outputs": [
    {
     "name": "stdout",
     "output_type": "stream",
     "text": [
      "Dataset Name: POP909\n",
      "start to load mid from dataset/dataset_B4/\n",
      "loading dataset/dataset_B4/ success! 0 files in total\n",
      "processed:1\n",
      "loading dataset/dataset_B4/ success! 586 files in total\n"
     ]
    }
   ],
   "source": [
    "# load data from Midis, because bpm = 120，so one beat time = 60 / 120 = 0.5\n",
    "# And in 4/4 we divide 4 beat to 24 step/frames, each will be 0.5 * 4 / 24  = 0.5 / 6 sec\n",
    "# It takes a little bit long time.\n",
    "\n",
    "ml = MIDI_Loader(\"POP909\",minStep = 0.5 / 6)\n",
    "ml.load(os.path.join(s_dir, dataset_path))"
   ]
  },
  {
   "cell_type": "markdown",
   "metadata": {
    "collapsed": false,
    "pycharm": {
     "name": "#%% md\n"
    }
   },
   "source": []
  },
  {
   "cell_type": "code",
   "execution_count": 3,
   "metadata": {
    "collapsed": true,
    "pycharm": {
     "name": "#%%\n"
    }
   },
   "outputs": [
    {
     "name": "stdout",
     "output_type": "stream",
     "text": [
      "start process POP909 Song dataset\n",
      "start to get notes\n",
      "get notes in 1 files\n",
      "calc notes success! 586 files in total\n",
      "processing succeed\n"
     ]
    }
   ],
   "source": [
    "# process all files to the mesaure data for VAE tranining\n",
    "s = ml.processed_all()"
   ]
  },
  {
   "cell_type": "code",
   "execution_count": 4,
   "metadata": {
    "collapsed": true,
    "pycharm": {
     "name": "#%%\n"
    }
   },
   "outputs": [
    {
     "name": "stdout",
     "output_type": "stream",
     "text": [
      "{'name': 'sample_003_A4B4A4', 'raw': <pretty_midi.pretty_midi.PrettyMIDI object at 0x000001EAF603AAF0>, 'notes': [74, 128, 128, 128, 128, 128, 128, 74, 128, 74, 128, 129, 129, 74, 128, 74, 128, 74, 128, 74, 128, 74, 128, 74, 128, 74, 128, 74, 128, 129, 129, 75, 128, 128, 128, 129, 129, 75, 128, 75, 128, 75, 128, 75, 128, 129, 129, 75, 128, 75, 128, 75, 128, 75, 128, 75, 128, 75, 128, 129, 129, 77, 128, 74, 128, 128, 128, 129, 129, 74, 128, 74, 128, 74, 128, 74, 128, 128, 128, 129, 129, 75, 128, 129, 129, 74, 128, 129, 129, 72, 128, 70, 128, 128, 128, 129, 129, 72, 128, 128, 128, 128, 128, 128, 128, 128, 128, 128, 128, 128, 128, 128, 128, 128, 128, 128, 128, 128, 128, 128, 128, 128, 128, 128, 128, 128, 128, 128, 128, 128, 128, 128, 128, 82, 128, 128, 128, 79, 128, 128, 128, 129, 129, 129, 129, 82, 128, 82, 128, 82, 128, 129, 129, 129, 129, 82, 128, 84, 128, 129, 129, 82, 128, 129, 129, 81, 128, 129, 129, 77, 128, 129, 129, 129, 129, 129, 129, 129, 81, 128, 81, 128, 81, 128, 129, 129, 81, 128, 81, 128, 82, 128, 129, 129, 81, 128, 129, 129, 79, 128, 129, 129, 75, 128, 128, 128, 129, 129, 129, 129, 79, 128, 79, 128, 81, 128, 129, 129, 79, 128, 129, 129, 77, 128, 129, 129, 75, 128, 129, 129, 74, 128, 128, 128, 129, 129, 129, 129, 74, 128, 129, 129, 75, 128, 128, 128, 128, 128, 128, 129, 129, 77, 128, 129, 129, 81, 128, 128, 128, 129, 129, 81, 128, 74, 128, 128, 128, 128, 128, 128, 74, 128, 74, 128, 129, 129, 74, 128, 74, 128, 74, 128, 74, 128, 74, 128, 74, 128, 74, 128, 74, 128, 129, 129, 75, 128, 128, 128, 129, 129, 75, 128, 75, 128, 75, 128, 75, 128, 129, 129, 75, 128, 75, 128, 75, 128, 75, 128, 75, 128, 75, 128, 129, 129, 77, 128, 74, 128, 128, 128, 129, 129, 74, 128, 74, 128, 74, 128, 74, 128, 128, 128, 129, 129, 75, 128, 129, 129, 74, 128, 129, 129, 72, 128, 70, 128, 128, 128, 129, 129, 72, 128, 128, 128, 128, 128, 128, 128, 128, 128, 128, 128, 128, 128, 128, 128, 128, 128, 128, 128, 128, 128, 128, 128, 128, 128, 128, 128, 128, 128, 128, 128, 128, 128, 128, 128]}\n"
     ]
    }
   ],
   "source": [
    "#  now you would able to see the files like\n",
    "print(s[0])"
   ]
  },
  {
   "cell_type": "code",
   "execution_count": 5,
   "metadata": {
    "collapsed": true,
    "pycharm": {
     "name": "#%%\n"
    }
   },
   "outputs": [],
   "source": [
    "# in order to save space, we only need the notes, so we delete the \"raw\" in the processed dict\n",
    "for i in range(len(s)):\n",
    "    s[i][\"raw\"] = \"\""
   ]
  },
  {
   "cell_type": "code",
   "execution_count": 6,
   "metadata": {
    "collapsed": true,
    "pycharm": {
     "name": "#%%\n"
    }
   },
   "outputs": [
    {
     "name": "stdout",
     "output_type": "stream",
     "text": [
      "410 117 59\n"
     ]
    }
   ],
   "source": [
    "# split the dataset\n",
    "ratio = [int(len(s) * 0.7), int(len(s) * 0.9)]\n",
    "random.shuffle(s)\n",
    "train_s = s[:ratio[0]]\n",
    "validate_s = s[ratio[0]:ratio[1]]\n",
    "test_s = s[ratio[1]:]\n",
    "print(len(train_s),len(validate_s),len(test_s))"
   ]
  },
  {
   "cell_type": "code",
   "execution_count": 7,
   "metadata": {
    "collapsed": true,
    "pycharm": {
     "name": "#%%\n"
    }
   },
   "outputs": [],
   "source": [
    "# Save it to irish_train, validate, or test\n",
    "np.save(\"data/POP909_train_12_measure.npy\", train_s)\n",
    "np.save(\"data/POP909_test_12_measure.npy\", validate_s)\n",
    "np.save(\"data/POP909_validate_12_measure.npy\", test_s)\n",
    "\n",
    "# np.save(\"data/POP909_train_4_measure.npy\", train_s)\n",
    "# np.save(\"data/POP909_test_4_measure.npy\", validate_s)\n",
    "# np.save(\"data/POP909_validate_4_measure.npy\", test_s)"
   ]
  }
 ],
 "metadata": {
  "kernelspec": {
   "display_name": "Python 3.8.13 ('algorithm')",
   "language": "python",
   "name": "python3"
  },
  "language_info": {
   "codemirror_mode": {
    "name": "ipython",
    "version": 3
   },
   "file_extension": ".py",
   "mimetype": "text/x-python",
   "name": "python",
   "nbconvert_exporter": "python",
   "pygments_lexer": "ipython3",
   "version": "3.8.13"
  },
  "vscode": {
   "interpreter": {
    "hash": "73482a106013f17400b936ca7e780b3ccd51e550cb47f3cc9f70b0ebc4f77a03"
   }
  }
 },
 "nbformat": 4,
 "nbformat_minor": 4
}
