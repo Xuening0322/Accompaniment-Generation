{
 "cells": [
  {
   "cell_type": "code",
   "execution_count": 9,
   "metadata": {
    "pycharm": {
     "name": "#%%\n"
    }
   },
   "outputs": [
    {
     "name": "stdout",
     "output_type": "stream",
     "text": [
      "True\n"
     ]
    }
   ],
   "source": [
    "import os\n",
    "import copy\n",
    "import random\n",
    "import numpy as np\n",
    "import pretty_midi as pyd\n",
    "from loader.dataloader import MIDI_Loader\n",
    "\n",
    "s_dir = \"\" # folder address\n",
    "dataset_path = \"/Users/wxn/Desktop/surf/test_dataset/\" # dataset path\n",
    "print(os.path.exists(dataset_path))"
   ]
  },
  {
   "cell_type": "code",
   "execution_count": 10,
   "metadata": {
    "collapsed": true,
    "pycharm": {
     "name": "#%%\n"
    }
   },
   "outputs": [
    {
     "name": "stdout",
     "output_type": "stream",
     "text": [
      "Dataset Name: POP909\n",
      "start to load mid from /Users/wxn/Desktop/surf/test_dataset/\n",
      "loading /Users/wxn/Desktop/surf/test_dataset/ success! 0 files in total\n",
      "processed:1\n",
      "loading /Users/wxn/Desktop/surf/test_dataset/ success! 641 files in total\n"
     ]
    }
   ],
   "source": [
    "# load data from Midis, because bpm = 120，so one beat time = 60 / 120 = 0.5\n",
    "# And in 4/4 we divide 4 beat to 24 step/frames, each will be 0.5 * 4 / 24  = 0.5 / 6 sec\n",
    "# It takes a little bit long time.\n",
    "\n",
    "ml = MIDI_Loader(\"POP909\",minStep = 0.5 / 6)\n",
    "ml.load(os.path.join(s_dir, dataset_path))"
   ]
  },
  {
   "cell_type": "markdown",
   "source": [],
   "metadata": {
    "collapsed": false,
    "pycharm": {
     "name": "#%% md\n"
    }
   }
  },
  {
   "cell_type": "code",
   "execution_count": 11,
   "metadata": {
    "collapsed": true,
    "pycharm": {
     "name": "#%%\n"
    }
   },
   "outputs": [
    {
     "name": "stdout",
     "output_type": "stream",
     "text": [
      "start process POP909 Song dataset\n",
      "start to get notes\n",
      "get notes in 1 files\n",
      "calc notes success! 641 files in total\n",
      "processing succeed\n"
     ]
    }
   ],
   "source": [
    "# process all files to the mesaure data for VAE tranining\n",
    "s = ml.processed_all()"
   ]
  },
  {
   "cell_type": "code",
   "execution_count": 12,
   "metadata": {
    "collapsed": true,
    "pycharm": {
     "name": "#%%\n"
    }
   },
   "outputs": [
    {
     "name": "stdout",
     "output_type": "stream",
     "text": [
      "{'name': 'sample_586_C4B4C4_preprocessed', 'raw': <pretty_midi.pretty_midi.PrettyMIDI object at 0x7fccf867f1d0>, 'notes': [71, 128, 128, 128, 69, 128, 128, 128, 69, 128, 128, 128, 68, 128, 66, 128, 128, 128, 128, 128, 128, 59, 128, 129, 129, 63, 128, 129, 129, 69, 128, 128, 128, 69, 128, 128, 128, 68, 128, 129, 129, 68, 128, 128, 128, 66, 128, 128, 128, 64, 128, 128, 128, 128, 128, 128, 128, 128, 129, 129, 129, 129, 61, 128, 63, 128, 64, 128, 129, 129, 57, 128, 129, 129, 57, 128, 128, 128, 64, 128, 128, 128, 63, 128, 128, 128, 63, 128, 128, 128, 66, 128, 128, 128, 63, 128, 128, 128, 64, 128, 128, 128, 128, 128, 128, 129, 129, 66, 128, 128, 128, 128, 128, 128, 128, 128, 68, 128, 128, 128, 61, 128, 128, 128, 64, 128, 128, 128, 68, 128, 128, 128, 69, 128, 68, 128, 69, 128, 68, 128, 69, 128, 128, 128, 71, 128, 128, 128, 66, 128, 128, 128, 128, 128, 128, 128, 128, 63, 128, 128, 128, 128, 128, 128, 129, 129, 68, 128, 66, 128, 68, 128, 66, 128, 68, 128, 128, 128, 71, 128, 128, 128, 64, 128, 128, 128, 128, 128, 128, 128, 128, 129, 129, 129, 129, 61, 128, 63, 128, 64, 128, 129, 129, 63, 128, 63, 128, 128, 128, 61, 128, 128, 128, 128, 128, 128, 64, 128, 129, 129, 63, 128, 128, 128, 63, 128, 128, 128, 61, 128, 128, 128, 63, 128, 128, 128, 128, 128, 128, 128, 128, 128, 128, 128, 128, 128, 128, 128, 129, 129, 129, 129, 129, 129, 129, 61, 128, 128, 128, 64, 128, 129, 129, 68, 128, 128, 128, 71, 128, 128, 128, 69, 128, 128, 128, 69, 128, 128, 128, 68, 128, 66, 128, 128, 128, 128, 128, 128, 59, 128, 129, 129, 63, 128, 129, 129, 69, 128, 128, 128, 69, 128, 128, 128, 68, 128, 129, 129, 68, 128, 128, 128, 66, 128, 128, 128, 64, 128, 128, 128, 128, 128, 128, 128, 128, 129, 129, 129, 129, 61, 128, 63, 128, 64, 128, 129, 129, 57, 128, 129, 129, 57, 128, 128, 128, 64, 128, 128, 128, 63, 128, 128, 128, 63, 128, 128, 128, 66, 128, 128, 128, 63, 128, 128, 128, 64, 128, 128, 128, 128, 128, 128, 129, 129, 66, 128, 128, 128, 128, 128, 128, 128, 128, 68, 128, 128, 128, 61, 128, 128, 128, 64, 128, 128, 128, 68, 128, 128, 128]}\n"
     ]
    }
   ],
   "source": [
    "#  now you would able to see the files like\n",
    "print(s[0])"
   ]
  },
  {
   "cell_type": "code",
   "execution_count": 13,
   "metadata": {
    "collapsed": true,
    "pycharm": {
     "name": "#%%\n"
    }
   },
   "outputs": [],
   "source": [
    "# in order to save space, we only need the notes, so we delete the \"raw\" in the processed dict\n",
    "for i in range(len(s)):\n",
    "    s[i][\"raw\"] = \"\""
   ]
  },
  {
   "cell_type": "code",
   "execution_count": 14,
   "metadata": {
    "collapsed": true,
    "pycharm": {
     "name": "#%%\n"
    }
   },
   "outputs": [
    {
     "name": "stdout",
     "output_type": "stream",
     "text": [
      "448 128 65\n"
     ]
    }
   ],
   "source": [
    "# split the dataset\n",
    "ratio = [int(len(s) * 0.7), int(len(s) * 0.9)]\n",
    "random.shuffle(s)\n",
    "train_s = s[:ratio[0]]\n",
    "validate_s = s[ratio[0]:ratio[1]]\n",
    "test_s = s[ratio[1]:]\n",
    "print(len(train_s),len(validate_s),len(test_s))"
   ]
  },
  {
   "cell_type": "code",
   "execution_count": 15,
   "metadata": {
    "collapsed": true,
    "pycharm": {
     "name": "#%%\n"
    }
   },
   "outputs": [],
   "source": [
    "# Save it to irish_train, validate, or test\n",
    "np.save(\"data/POP909_train_12_measure.npy\", train_s)\n",
    "np.save(\"data/POP909_test_12_measure.npy\", validate_s)\n",
    "np.save(\"data/POP909_validate_12_measure.npy\", test_s)"
   ]
  }
 ],
 "metadata": {
  "kernelspec": {
   "display_name": "Python 3 (ipykernel)",
   "language": "python",
   "name": "python3"
  },
  "language_info": {
   "codemirror_mode": {
    "name": "ipython",
    "version": 3
   },
   "file_extension": ".py",
   "mimetype": "text/x-python",
   "name": "python",
   "nbconvert_exporter": "python",
   "pygments_lexer": "ipython3",
   "version": "3.7.12"
  }
 },
 "nbformat": 4,
 "nbformat_minor": 4
}