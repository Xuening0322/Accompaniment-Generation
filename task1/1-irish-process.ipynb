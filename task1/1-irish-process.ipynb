{
 "cells": [
  {
   "cell_type": "code",
   "execution_count": null,
   "metadata": {
    "pycharm": {
     "is_executing": true,
     "name": "#%%\n"
    }
   },
   "outputs": [],
   "source": [
    "'''\n",
    "Welcome to Music SketchNet! \n",
    "--------------------------\n",
    "This is the first file you click in this folder to start.\n",
    "We will guide you in each process of the Music SketchNet, including:\n",
    "    1. data processing\n",
    "    2. model construction\n",
    "    3. model training/inferring\n",
    "    4. evaluation.\n",
    "--------------------------\n",
    "This file is to process the dataset that used in Music SketchNet\n",
    "\n",
    "Before going into the process, we would like you to know that we use self-defined MIDI_Loader to process the irish midi files\n",
    "One of the problem you should notice is that there is a bias time (~1/960 sec) in the irish midi files\n",
    "In that, we offset this bias in the Midi_Loader implementation (c_bias = 1.0 / 960)\n",
    "With our codes, you can process the irish dataset.\n",
    "\n",
    "If you want to process other datasets, you have two choices:\n",
    "1) replace the c_bias = 1.0/960 with c_bias = 0.0, and perhaps you should check more about the difference between your midi files and irish midi files. \n",
    "2) check our code, and write your own processing script (we recommend this)\n",
    "\n",
    "But at least, with our codes, you can use the irish dataset to go through all the process, which will give you a strong example of how to use it.\n",
    "\n",
    "Please ignore the \"Nottingham\" we define in the MIDI_Loader. \n",
    "Most of these codes can help you to process the Nottingham, another folk songs dataset, but there might be some problems with it.\n",
    "'''\n",
    "\n",
    "import os\n",
    "import copy\n",
    "import random\n",
    "import numpy as np\n",
    "import pretty_midi as pyd\n",
    "from loader.dataloader import MIDI_Loader\n",
    "\n",
    "s_dir = \"\" # folder address\n",
    "dataset_path = \"data/IrishFolkSong/session/\" # dataset path"
   ]
  },
  {
   "cell_type": "code",
   "execution_count": null,
   "metadata": {
    "collapsed": true,
    "pycharm": {
     "name": "#%%\n",
     "is_executing": true
    }
   },
   "outputs": [],
   "source": [
    "import os\n",
    "import copy\n",
    "import random\n",
    "import numpy as np\n",
    "import pretty_midi as pyd\n",
    "from loader.dataloader import MIDI_Loader\n",
    "\n",
    "s_dir = \"\" # folder address\n",
    "dataset_path = \"data/IrishFolkSong/session/\" # dataset path\n",
    "# load data from Midis, because bpm = 120，so one beat time = 60 / 120 = 0.5\n",
    "# And in 4/4 we divide 4 beat to 24 step/frames, each will be 0.5 * 4 / 24  = 0.5 / 6 sec\n",
    "# It takes a little bit long time. \n",
    "ml = MIDI_Loader(\"Irish\",minStep = 0.5 / 6)\n",
    "ml.load(os.path.join(s_dir, dataset_path))"
   ]
  },
  {
   "cell_type": "code",
   "execution_count": null,
   "metadata": {
    "collapsed": true,
    "pycharm": {
     "name": "#%%\n"
    }
   },
   "outputs": [],
   "source": [
    "# process all files to the mesaure data for VAE tranining\n",
    "s = ml.processed_all()"
   ]
  },
  {
   "cell_type": "code",
   "execution_count": null,
   "metadata": {
    "collapsed": true,
    "pycharm": {
     "name": "#%%\n"
    }
   },
   "outputs": [],
   "source": [
    "#  now you would able to see the files like\n",
    "print(s[0])"
   ]
  },
  {
   "cell_type": "code",
   "execution_count": null,
   "metadata": {
    "collapsed": true,
    "pycharm": {
     "name": "#%%\n"
    }
   },
   "outputs": [],
   "source": [
    "# in order to save space, we only need the notes, so we delete the \"raw\" in the processed dict\n",
    "for i in range(len(s)):\n",
    "    s[i][\"raw\"] = \"\""
   ]
  },
  {
   "cell_type": "code",
   "execution_count": null,
   "metadata": {
    "collapsed": true,
    "pycharm": {
     "name": "#%%\n"
    }
   },
   "outputs": [],
   "source": [
    "# split the dataset\n",
    "ratio = [int(len(s) * 0.7), int(len(s) * 0.9)]\n",
    "random.shuffle(s)\n",
    "train_s = s[:ratio[0]]\n",
    "validate_s = s[ratio[0]:ratio[1]]\n",
    "test_s = s[ratio[1]:]\n",
    "print(len(train_s),len(validate_s),len(test_s))"
   ]
  },
  {
   "cell_type": "code",
   "execution_count": null,
   "metadata": {
    "collapsed": true,
    "pycharm": {
     "name": "#%%\n"
    }
   },
   "outputs": [],
   "source": [
    "# Save it to irish_train, validate, or test\n",
    "np.save(\"data/irish_train.npy\", train_s)\n",
    "np.save(\"data/irish_validate.npy\", validate_s)\n",
    "np.save(\"data/irish_test.npy\", test_s)"
   ]
  },
  {
   "cell_type": "code",
   "execution_count": null,
   "metadata": {
    "collapsed": true,
    "pycharm": {
     "name": "#%%\n"
    }
   },
   "outputs": [],
   "source": []
  }
 ],
 "metadata": {
  "kernelspec": {
   "display_name": "Python 3 (ipykernel)",
   "language": "python",
   "name": "python3"
  },
  "language_info": {
   "codemirror_mode": {
    "name": "ipython",
    "version": 3
   },
   "file_extension": ".py",
   "mimetype": "text/x-python",
   "name": "python",
   "nbconvert_exporter": "python",
   "pygments_lexer": "ipython3",
   "version": "3.7.12"
  }
 },
 "nbformat": 4,
 "nbformat_minor": 4
}