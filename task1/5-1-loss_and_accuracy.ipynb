{
 "cells": [
  {
   "cell_type": "code",
   "execution_count": 1,
   "metadata": {},
   "outputs": [],
   "source": [
    "'''\n",
    "From here 5-1, all the results are depend on the generation reslut res-xxx-xxx-xxx.npy files\n",
    "These files are the generations from 4-3,4-4,4-5.\n",
    "In this file we caculate loss, pitch accuracy, and rhythm accuracy of each model generation.\n",
    "The code listed below is able to calculate one model's loss and pitch accuracy and rhythm\n",
    "If you want directly see the generation result without training and evaluating, these files can be downloaded in the Github data link.\n",
    "'''\n",
    "import numpy as np\n"
   ]
  },
  {
   "cell_type": "code",
   "execution_count": 2,
   "metadata": {},
   "outputs": [],
   "source": [
    "def pitch_similarity(a, b):\n",
    "    s = len(a)\n",
    "    num_pitch = np.sum(a < 128)\n",
    "    acc = np.sum(np.logical_and(a == b,  a < 128)) / num_pitch\n",
    "    return acc\n",
    "def rhythm_similarity(a,b):\n",
    "    s = len(a)\n",
    "    num_pitch = np.sum(a >= 128)\n",
    "    acc = np.sum(np.logical_and(a == b,  a >= 128)) / num_pitch\n",
    "    return acc\n",
    "    "
   ]
  },
  {
   "cell_type": "code",
   "execution_count": 8,
   "metadata": {
    "scrolled": true
   },
   "outputs": [
    {
     "name": "stdout",
     "output_type": "stream",
     "text": [
      "300\n",
      "0.0417902112554239 0.8854035723601502\n"
     ]
    }
   ],
   "source": [
    "# this loaded file is the generation result we save in 4-3,4-4,4-5\n",
    "# data = np.load(\"res-validate-irish-sketchnet-stage-1.npy\", allow_pickle = True)\n",
    "\n",
    "data = np.load(\"res-exp-sketchnet_control_mixture_2.npy\", allow_pickle = True)\n",
    "racc = 0.0\n",
    "pacc = 0.0\n",
    "total = 0\n",
    "for i, d in enumerate(data):\n",
    "    inpaint = d[\"inpaint\"]\n",
    "    # print(d.items())\n",
    "    gd = d[\"gd1\"]\n",
    "    o_note = gd\n",
    "    r_note = inpaint\n",
    "    for j in range(len(o_note)):\n",
    "        x = np.concatenate(o_note[j], -1)\n",
    "        y = np.concatenate(r_note[j], -1)\n",
    "        total += 1\n",
    "        pacc += pitch_similarity(x,y)\n",
    "        racc += rhythm_similarity(x,y)\n",
    "print(len(data))\n",
    "print(pacc / total, racc / total)"
   ]
  },
  {
   "cell_type": "code",
   "execution_count": null,
   "metadata": {},
   "outputs": [],
   "source": []
  }
 ],
 "metadata": {
  "kernelspec": {
   "display_name": "Python 3 (ipykernel)",
   "language": "python",
   "name": "python3"
  },
  "language_info": {
   "codemirror_mode": {
    "name": "ipython",
    "version": 3
   },
   "file_extension": ".py",
   "mimetype": "text/x-python",
   "name": "python",
   "nbconvert_exporter": "python",
   "pygments_lexer": "ipython3",
   "version": "3.8.13"
  }
 },
 "nbformat": 4,
 "nbformat_minor": 4
}
